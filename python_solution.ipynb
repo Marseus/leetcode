{
 "cells": [
  {
   "cell_type": "code",
   "execution_count": 2,
   "metadata": {},
   "outputs": [
    {
     "name": "stdout",
     "output_type": "stream",
     "text": [
      "[0, 1]\n"
     ]
    }
   ],
   "source": [
    "#01\n",
    "class Solution(object):\n",
    "    def __init__(self, nums, target):\n",
    "        self.nums = nums\n",
    "        self.target = target\n",
    "\n",
    "    def twoSum(self, nums, target):\n",
    "        n = len(nums)\n",
    "        for i in range(n):\n",
    "            for j in range(i+1, n):\n",
    "                if nums[i] + nums[j] == target:\n",
    "                    return [i,j]\n",
    "\n",
    "\n",
    "sol = Solution([2,7,11,15], 9).twoSum([2,7,11,15], 9)\n",
    "print(sol)"
   ]
  },
  {
   "cell_type": "code",
   "execution_count": 9,
   "metadata": {},
   "outputs": [
    {
     "name": "stdout",
     "output_type": "stream",
     "text": [
      "[0, 1]\n"
     ]
    }
   ],
   "source": [
    "#01.2\n",
    "class Solution(object):\n",
    "    def twoSum(self, nums, target):\n",
    "        # Create a dict to store the complement of each number\n",
    "        complement_dict = {}\n",
    "\n",
    "        # Loop through each number in the list\n",
    "        for i, num in enumerate(nums):\n",
    "            # Calculate the complement of the number\n",
    "            complement = target - num\n",
    "            if complement in complement_dict:\n",
    "                return [complement_dict[complement], i]\n",
    "            complement_dict[num] = i\n",
    "        return []\n",
    "        \n",
    "nums = [2, 7, 11, 15]\n",
    "target = 9\n",
    "sol = Solution().twoSum(nums, target)\n",
    "print(sol)\n"
   ]
  },
  {
   "cell_type": "code",
   "execution_count": null,
   "metadata": {},
   "outputs": [],
   "source": [
    "#02\n",
    "class Solution(object):\n",
    "    "
   ]
  },
  {
   "cell_type": "code",
   "execution_count": 8,
   "metadata": {},
   "outputs": [
    {
     "data": {
      "text/plain": [
       "True"
      ]
     },
     "execution_count": 8,
     "metadata": {},
     "output_type": "execute_result"
    }
   ],
   "source": [
    "#365\n",
    "class Solution(object):\n",
    "    def canMeasureWater(self, jug1Capacity, jug2Capacity, targetCapacity):\n",
    "        def gcd(a, b):\n",
    "            while b != 0:\n",
    "                a, b = b, a % b\n",
    "            return a\n",
    "        \n",
    "        # Check if the target capacity is greater than the sum of jug capacities\n",
    "        if targetCapacity > jug1Capacity + jug2Capacity:\n",
    "            return False\n",
    "    \n",
    "        # Check if the target capacity is divisible by the greatest common divisor of jug capacities\n",
    "        return targetCapacity % gcd(jug1Capacity, jug2Capacity) == 0\n",
    "\n",
    "# Example usage\n",
    "jug1Capacity = 3\n",
    "jug2Capacity = 5\n",
    "targetCapacity = 4\n",
    "\n",
    "Solution().canMeasureWater(jug1Capacity, jug2Capacity, targetCapacity)\n",
    "\n"
   ]
  },
  {
   "cell_type": "code",
   "execution_count": 7,
   "metadata": {},
   "outputs": [
    {
     "name": "stdout",
     "output_type": "stream",
     "text": [
      "{'g': [0, 6], 'o': [1], 'd': [2, 3], 'i': [4], 'n': [5]}\n",
      "{'g': [0, 6], 'o': [1], 'd': [2, 3], 'i': [4], 'n': [5]}\n",
      "4\n",
      "13\n"
     ]
    }
   ],
   "source": [
    "#514\n",
    "class Solution(object):\n",
    "    def findRotateSteps(self, ring, key):\n",
    "        n = len(ring)\n",
    "        m = len(key)\n",
    "        dp = [[float('inf')] * n for _ in range(m)]\n",
    "\n",
    "        # Store the positions of each character in the ring\n",
    "        char_positions = {}\n",
    "        for i, char in enumerate(ring):\n",
    "            if char not in char_positions:\n",
    "                char_positions[char] = []\n",
    "            char_positions[char].append(i)\n",
    "\n",
    "        # Initialize the first column of the dp table\n",
    "        for pos in char_positions[key[0]]:\n",
    "            dp[0][pos] = min(pos, n - pos) + 1\n",
    "\n",
    "        # Fill in the rest of the dp table\n",
    "        for i in range(1, m):\n",
    "            for j in char_positions[key[i]]:\n",
    "                for k in char_positions[key[i - 1]]:\n",
    "                    dp[i][j] = min(dp[i][j], dp[i - 1][k] + min(abs(j - k), n - abs(j - k)) + 1)\n",
    "\n",
    "        # Find the minimum steps required to spell the entire key\n",
    "        min_steps = float('inf')\n",
    "        for pos in char_positions[key[m - 1]]:\n",
    "            min_steps = min(min_steps, dp[m - 1][pos])\n",
    "\n",
    "        return min_steps\n",
    "\n",
    "ring = \"godding\"\n",
    "key = \"gd\"\n",
    "key2 = \"godding\"\n",
    "min_steps = findRotateSteps(ring, key)\n",
    "min_steps2 = findRotateSteps(ring, key2)\n",
    "print(min_steps)\n",
    "print(min_steps2)\n",
    "\n"
   ]
  },
  {
   "cell_type": "code",
   "execution_count": null,
   "metadata": {},
   "outputs": [],
   "source": [
    "#514.2\n",
    "class Solution(object):\n",
    "    def findRotateSteps(self, ring, key):\n",
    "        \"\"\"\n",
    "        :type ring: str\n",
    "        :type key: str\n",
    "        :rtype: int\n",
    "        \"\"\"\n",
    "        n, m = len(ring), len(key)\n",
    "        index_map = {}\n",
    "        for i in range(n):\n",
    "            if ring[i] in index_map:\n",
    "                index_map[ring[i]].append(i)\n",
    "            else:\n",
    "                index_map[ring[i]] = [i]\n",
    "        dp = list()\n",
    "        for i in range(m):\n",
    "            dp.append([0x3f3f3f3f] * n)\n",
    "        for i in index_map[key[0]]:\n",
    "            dp[0][i] = 1 + min(i, n - i)\n",
    "        for i in range(1, m):\n",
    "            for j in index_map[key[i]]:\n",
    "                for k in index_map[key[i-1]]:\n",
    "                    dp[i][j] = min(dp[i][j], dp[i-1][k] + min(abs(j - k), n - abs(j - k)) + 1)\n",
    "        return min(dp[m-1])"
   ]
  },
  {
   "cell_type": "code",
   "execution_count": null,
   "metadata": {},
   "outputs": [],
   "source": []
  }
 ],
 "metadata": {
  "kernelspec": {
   "display_name": "Python 3",
   "language": "python",
   "name": "python3"
  },
  "language_info": {
   "codemirror_mode": {
    "name": "ipython",
    "version": 3
   },
   "file_extension": ".py",
   "mimetype": "text/x-python",
   "name": "python",
   "nbconvert_exporter": "python",
   "pygments_lexer": "ipython3",
   "version": "3.10.10"
  }
 },
 "nbformat": 4,
 "nbformat_minor": 2
}
